{
 "cells": [
  {
   "cell_type": "code",
   "execution_count": null,
   "metadata": {},
   "outputs": [],
   "source": [
    "##\n",
    "# Dataset preprocessing\n",
    "\n",
    "from pandas import read_csv\n",
    "\n",
    "# Read dataset\n",
    "dataset_csv = read_csv(r'./datasets/obfuscated_dataset_v1.1.csv')\n",
    "\n",
    "# Drop function name\n",
    "dataset_csv = dataset_csv.drop(columns=['function name'])\n",
    "\n",
    "# Fill target as 'not related'=0\n",
    "dataset_csv[['target']] = dataset_csv[['target']].fillna(value=0)"
   ]
  },
  {
   "cell_type": "code",
   "execution_count": null,
   "metadata": {},
   "outputs": [],
   "source": [
    "\n",
    "import pickle\n",
    "import numpy as np\n",
    "from sklearn.model_selection import train_test_split\n",
    "from sklearn.svm import SVC\n",
    "from sklearn.metrics import classification_report, confusion_matrix, accuracy_score\n",
    "\n",
    "# Define 2 version, normal and 'prod' which will be used\n",
    "PROD = True\n",
    "\n",
    "# Sepparate data into attributes and labels\n",
    "features = dataset_csv.drop('target', axis=1)\n",
    "target = dataset_csv['target']\n",
    "\n",
    "pickle_name = ''\n",
    "\n",
    "if (not PROD):\n",
    "    X_train, X_test, y_train, y_test = train_test_split(features, target, test_size=0.15)\n",
    "    pickle_name = 'whitebox_svm_classifier.pkl'\n",
    "else:\n",
    "    X_train, X_test, y_train, y_test = train_test_split(features, target, test_size=0.20)\n",
    "    pickle_name = 'whitebox_svm_classifier_prod.pkl'\n",
    "    X_train = features\n",
    "    y_train = target\n",
    "\n",
    "# Add weights to features\n",
    "weights = np.ones(X_train.shape[0])\n",
    "weights[X_train.iloc[:, 7] == 1] = 2\n",
    "\n",
    "# Train with tuned hyperparameters\n",
    "classifier = SVC(kernel='linear', C=0.1)\n",
    "classifier.fit(X_train, y_train, sample_weight = weights)\n",
    "\n",
    "y_pred = classifier.predict(X_test)\n",
    "\n",
    "print(confusion_matrix(y_test, y_pred))\n",
    "print(classification_report(y_test, y_pred))\n",
    "print(accuracy_score(y_test, y_pred))\n",
    "\n",
    "# Save the classifier\n",
    "with open(pickle_name, \"wb\") as f:\n",
    "    pickle.dump(classifier, f)\n"
   ]
  }
 ],
 "metadata": {
  "kernelspec": {
   "display_name": "base",
   "language": "python",
   "name": "python3"
  },
  "language_info": {
   "codemirror_mode": {
    "name": "ipython",
    "version": 3
   },
   "file_extension": ".py",
   "mimetype": "text/x-python",
   "name": "python",
   "nbconvert_exporter": "python",
   "pygments_lexer": "ipython3",
   "version": "3.10.6"
  },
  "orig_nbformat": 4
 },
 "nbformat": 4,
 "nbformat_minor": 2
}
